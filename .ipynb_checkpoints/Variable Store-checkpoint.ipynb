{
 "cells": [
  {
   "cell_type": "code",
   "execution_count": 1,
   "id": "5fdb729b",
   "metadata": {},
   "outputs": [
    {
     "name": "stderr",
     "output_type": "stream",
     "text": [
      "/var/folders/25/kzllfhts2433r2_czy33wbs00000gn/T/ipykernel_44815/2807436146.py:19: RemovedIn20Warning: Deprecated API features detected! These feature(s) are not compatible with SQLAlchemy 2.0. To prevent incompatible upgrades prior to updating applications, ensure requirements files are pinned to \"sqlalchemy<2.0\". Set environment variable SQLALCHEMY_WARN_20=1 to show all deprecation warnings.  Set environment variable SQLALCHEMY_SILENCE_UBER_WARNING=1 to silence this message. (Background on SQLAlchemy 2.0 at: https://sqlalche.me/e/b8d9)\n",
      "  results = connection.execute('select current_version()').fetchone()\n"
     ]
    },
    {
     "name": "stdout",
     "output_type": "stream",
     "text": [
      "7.8.1\n"
     ]
    },
    {
     "data": {
      "text/html": [
       "<div>\n",
       "<style scoped>\n",
       "    .dataframe tbody tr th:only-of-type {\n",
       "        vertical-align: middle;\n",
       "    }\n",
       "\n",
       "    .dataframe tbody tr th {\n",
       "        vertical-align: top;\n",
       "    }\n",
       "\n",
       "    .dataframe thead th {\n",
       "        text-align: right;\n",
       "    }\n",
       "</style>\n",
       "<table border=\"1\" class=\"dataframe\">\n",
       "  <thead>\n",
       "    <tr style=\"text-align: right;\">\n",
       "      <th></th>\n",
       "      <th>status</th>\n",
       "    </tr>\n",
       "  </thead>\n",
       "  <tbody>\n",
       "    <tr>\n",
       "      <th>0</th>\n",
       "      <td>Statement executed successfully.</td>\n",
       "    </tr>\n",
       "  </tbody>\n",
       "</table>\n",
       "</div>"
      ],
      "text/plain": [
       "                             status\n",
       "0  Statement executed successfully."
      ]
     },
     "execution_count": 1,
     "metadata": {},
     "output_type": "execute_result"
    }
   ],
   "source": [
    "from sqlalchemy import create_engine\n",
    "import pandas as pd\n",
    "from snowflake.sqlalchemy import URL\n",
    "\n",
    "engine = create_engine(\n",
    "    'snowflake://{user}:{password}@{account}/d'.format(\n",
    "        user='ESTPEGION',\n",
    "        password='SnowFlake1234!',\n",
    "        account='mg61873.ca-central-1.aws',\n",
    "        database = 'KPMG',\n",
    "        schema = 'public',\n",
    "        warehouse = 'COMPUTE_WH',\n",
    "        role='accountadmin',\n",
    "        numpy = True\n",
    "    )\n",
    ")\n",
    "\n",
    "connection = engine.connect()\n",
    "results = connection.execute('select current_version()').fetchone()\n",
    "print(results[0])\n",
    "\n",
    "import pandas as pd\n",
    "pd.read_sql_query('''USE SCHEMA SNOWFLAKE_SAMPLE_DATA.TPCDS_SF10TCL;''',engine)\n",
    "# finally:\n",
    "#     connection.close()\n",
    "#     engine.dispose()"
   ]
  },
  {
   "cell_type": "code",
   "execution_count": 5,
   "id": "6199e6bb",
   "metadata": {},
   "outputs": [
    {
     "data": {
      "text/html": [
       "<div>\n",
       "<style scoped>\n",
       "    .dataframe tbody tr th:only-of-type {\n",
       "        vertical-align: middle;\n",
       "    }\n",
       "\n",
       "    .dataframe tbody tr th {\n",
       "        vertical-align: top;\n",
       "    }\n",
       "\n",
       "    .dataframe thead th {\n",
       "        text-align: right;\n",
       "    }\n",
       "</style>\n",
       "<table border=\"1\" class=\"dataframe\">\n",
       "  <thead>\n",
       "    <tr style=\"text-align: right;\">\n",
       "      <th></th>\n",
       "      <th>MIN(D_YEAR)</th>\n",
       "      <th>MAX(D_YEAR)</th>\n",
       "    </tr>\n",
       "  </thead>\n",
       "  <tbody>\n",
       "    <tr>\n",
       "      <th>0</th>\n",
       "      <td>1900</td>\n",
       "      <td>2100</td>\n",
       "    </tr>\n",
       "  </tbody>\n",
       "</table>\n",
       "</div>"
      ],
      "text/plain": [
       "   MIN(D_YEAR)  MAX(D_YEAR)\n",
       "0         1900         2100"
      ]
     },
     "execution_count": 5,
     "metadata": {},
     "output_type": "execute_result"
    }
   ],
   "source": [
    "#Q4\n",
    "pd.read_sql_query('select MIN(d_year), MAX(d_year) from date_dim',engine)"
   ]
  },
  {
   "cell_type": "code",
   "execution_count": 6,
   "id": "f08acd01",
   "metadata": {},
   "outputs": [],
   "source": [
    "#JSON CREATION\n",
    "\n",
    "#Add variable in json here!\n",
    "\n",
    "import json\n",
    "var_store = {}\n",
    "var_store['q1_state'] = ['TN',\n",
    " 'NM',\n",
    " 'KY',\n",
    " 'IA',\n",
    " 'NC',\n",
    " 'OH',\n",
    " 'GA',\n",
    " 'IN',\n",
    " 'AL',\n",
    " 'SC',\n",
    " 'MD',\n",
    " 'LA',\n",
    " 'SD',\n",
    " 'MI',\n",
    " 'FL',\n",
    " 'WV',\n",
    " 'VT',\n",
    " 'TX',\n",
    " 'MT',\n",
    " 'CA',\n",
    " 'NJ',\n",
    " 'CO',\n",
    " 'OK',\n",
    " 'IL',\n",
    " 'None',\n",
    " 'NE',\n",
    " 'OR',\n",
    " 'NY',\n",
    " 'MO',\n",
    " 'WI',\n",
    " 'VA',\n",
    " 'PA',\n",
    " 'WA',\n",
    " 'KS',\n",
    " 'MN']\n",
    "\n",
    "q60_c = pd.read_sql_query('select DISTINCT I_category from item limit 100',engine)\n",
    "\n",
    "q1_state = pd.read_sql_query('''SELECT DISTINCT s_state FROM store;''', engine)\n",
    "\n",
    "q4_agg = ['PREFERRED_CUST_FLAG','SALUTATION','BIRTH_COUNTRY']\n",
    "\n",
    "\n",
    "var_store['q1_agg'] = ['SR_RETURN_AMT','SR_RETURN_AMT_INC_TAX','SR_RETURN_QUANTITY','SR_RETURN_TAX','SR_RETURN_SHIP_COST']\n",
    "var_store['q3_aggc']= [\"ss_sold_date_sk\",\"ss_sold_time_sk\",\"ss_item_sk\",\"ss_customer_sk\",\"ss_cdemo_sk\",\"ss_hdemo_sk\",\"ss_addr_sk\",\"ss_store_sk\",\"ss_promo_sk\",\"ss_ticket_number\",\"ss_quantity\",\"ss_wholesale_cost\",\"ss_list_price\",\"ss_sales_price\",\"ss_ext_discount_amt\",\"ss_ext_sales_price\",\"ss_ext_wholesale_cost\",\"ss_ext_list_price\",\"ss_ext_tax\",\"ss_coupon_amt\",\"ss_net_paid\",\"ss_net_paid_inc_tax\",\"ss_net_profit\"] \n",
    "var_store['q60_c'] = list(q60_c.values.T[0])\n",
    "var_store['q4_agg'] = q4_agg\n",
    "\n",
    "var_store\n",
    "\n",
    "var_store_json = json.dumps(var_store,sort_keys=False,separators=(',', ': '))\n",
    "# Writing to var_store.json\n",
    "with open(\"var_store.json\", \"w\") as outfile:\n",
    "    outfile.write(var_store_json)"
   ]
  },
  {
   "cell_type": "code",
   "execution_count": 9,
   "id": "ed6cebef",
   "metadata": {},
   "outputs": [
    {
     "data": {
      "text/plain": [
       "['PREFERRED_CUST_FLAG', 'SALUTATION', 'BIRTH_COUNTRY']"
      ]
     },
     "execution_count": 9,
     "metadata": {},
     "output_type": "execute_result"
    }
   ],
   "source": [
    "test = json.load(open('var_store.json'))\n",
    "\n",
    "test['q4_agg']"
   ]
  },
  {
   "cell_type": "code",
   "execution_count": null,
   "id": "45028f81",
   "metadata": {},
   "outputs": [],
   "source": []
  }
 ],
 "metadata": {
  "kernelspec": {
   "display_name": "SNPark",
   "language": "python",
   "name": "snpark"
  },
  "language_info": {
   "codemirror_mode": {
    "name": "ipython",
    "version": 3
   },
   "file_extension": ".py",
   "mimetype": "text/x-python",
   "name": "python",
   "nbconvert_exporter": "python",
   "pygments_lexer": "ipython3",
   "version": "3.8.16"
  }
 },
 "nbformat": 4,
 "nbformat_minor": 5
}
